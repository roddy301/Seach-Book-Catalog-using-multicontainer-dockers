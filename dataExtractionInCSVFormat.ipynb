{
 "cells": [
  {
   "cell_type": "code",
   "execution_count": 4,
   "metadata": {},
   "outputs": [],
   "source": [
    "import re"
   ]
  },
  {
   "cell_type": "code",
   "execution_count": 5,
   "metadata": {},
   "outputs": [],
   "source": [
    "i = 1996\n",
    "lists = []\n",
    "while i<=2020:\n",
    "    f = open(\"files/\"+str(i)+\".txt\",'r',encoding=\"utf-8\")\n",
    "    divs = f.readlines()\n",
    "    \n",
    "    flag = 0\n",
    "    newLineCheck = 0\n",
    "    for div in divs:\n",
    "        if len(div)==1: newLineCheck = 1\n",
    "        else: newLineCheck = 0\n",
    "        if flag == 1:\n",
    "            if newLineCheck == 1:\n",
    "                lists.append(str(div))\n",
    "            if newLineCheck == 0:\n",
    "                lists[len(lists)-1] = lists[len(lists)-1]+ ' ' + str(div)\n",
    "        if \"TITLE and AUTHOR\" in div:\n",
    "            flag = 1\n",
    "            \n",
    "    i = i + 1"
   ]
  },
  {
   "cell_type": "code",
   "execution_count": 6,
   "metadata": {},
   "outputs": [],
   "source": [
    "i = 0;\n",
    "for l in lists:\n",
    "    if \"[Languages:\" in l or \"[Language:\" in l:\n",
    "        del lists[i]\n",
    "    i = i+1"
   ]
  },
  {
   "cell_type": "code",
   "execution_count": 7,
   "metadata": {},
   "outputs": [],
   "source": [
    "i = 0\n",
    "for l in lists:\n",
    "    lists[i] = re.sub(r'\\n','',l)\n",
    "    i = i + 1\n",
    "    \n",
    "i = 0\n",
    "for l in lists:\n",
    "    lists[i] = re.sub(r'\\s\\s\\s*\\d+','',l)\n",
    "    i = i + 1\n",
    "    \n",
    "i = 0\n",
    "for l in lists:\n",
    "    lists[i] = re.sub(r'\\[.*\\]','',l)\n",
    "    i = i + 1"
   ]
  },
  {
   "cell_type": "code",
   "execution_count": 65,
   "metadata": {},
   "outputs": [],
   "source": [
    "book = []\n",
    "author = []\n",
    "for l in lists:\n",
    "    s = l.strip()\n",
    "    s = s.split('by')\n",
    "    book.append(str(s[0]).strip())\n",
    "    if(len(s)==1):\n",
    "        author.append(\"N/A\")\n",
    "    else:\n",
    "        author.append(str(s[1]).strip())"
   ]
  },
  {
   "cell_type": "code",
   "execution_count": 66,
   "metadata": {},
   "outputs": [],
   "source": [
    "i = 0\n",
    "for b in book:\n",
    "    book[i] = re.sub('[^A-Za-z0-9\\s]+','',b)\n",
    "    i = i + 1\n",
    "    \n",
    "i = 0\n",
    "for a in author:\n",
    "    author[i] = re.sub('[^A-Za-z0-9\\s]+','',a)\n",
    "    i = i + 1"
   ]
  },
  {
   "cell_type": "code",
   "execution_count": 67,
   "metadata": {},
   "outputs": [],
   "source": [
    "import csv\n",
    "i = 0\n",
    "with open('booksAndAuthors.csv','w',newline='',encoding=\"utf-8\") as file:\n",
    "    c = csv.writer(file)\n",
    "    c.writerow([\"ID\", \"Book_Name\", \"Author\"])\n",
    "    while i<len(book):\n",
    "        c.writerow([i,str(book[i]).strip(),str(author[i]).strip()])\n",
    "        i = i + 1"
   ]
  },
  {
   "cell_type": "code",
   "execution_count": null,
   "metadata": {},
   "outputs": [],
   "source": []
  }
 ],
 "metadata": {
  "kernelspec": {
   "display_name": "Python 3",
   "language": "python",
   "name": "python3"
  },
  "language_info": {
   "codemirror_mode": {
    "name": "ipython",
    "version": 3
   },
   "file_extension": ".py",
   "mimetype": "text/x-python",
   "name": "python",
   "nbconvert_exporter": "python",
   "pygments_lexer": "ipython3",
   "version": "3.7.3"
  }
 },
 "nbformat": 4,
 "nbformat_minor": 2
}
